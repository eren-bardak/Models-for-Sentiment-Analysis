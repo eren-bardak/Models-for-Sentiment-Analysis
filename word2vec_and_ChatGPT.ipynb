{
 "cells": [
  {
   "cell_type": "code",
   "execution_count": 1,
   "metadata": {},
   "outputs": [],
   "source": [
    "from pathlib import Path\n",
    "import numpy as np\n",
    "import time\n",
    "import pandas as pd"
   ]
  },
  {
   "cell_type": "markdown",
   "metadata": {},
   "source": [
    "# Download the data"
   ]
  },
  {
   "cell_type": "code",
   "execution_count": 2,
   "metadata": {},
   "outputs": [],
   "source": [
    "# Download\n",
    "#! wget https://ai.stanford.edu/~amaas/data/sentiment/aclImdb_v1.tar.gz\n",
    "\n",
    "# Unzip\n",
    "#! tar -xvf aclImdb_v1.tar.gz\n",
    "\n",
    "# Check\n",
    "# ! ls aclImdb/"
   ]
  },
  {
   "cell_type": "markdown",
   "metadata": {},
   "source": [
    "# Getting the data"
   ]
  },
  {
   "cell_type": "code",
   "execution_count": 3,
   "metadata": {},
   "outputs": [
    {
     "data": {
      "text/plain": [
       "12500"
      ]
     },
     "execution_count": 3,
     "metadata": {},
     "output_type": "execute_result"
    }
   ],
   "source": [
    "def read_file(path):\n",
    "    f = open(path, \"r\")\n",
    "    return f.read()\n",
    "\n",
    "train_path = Path(\"aclImdb/train/\")\n",
    "train_pos_paths = [f for f in (train_path/\"pos\").iterdir()]\n",
    "len(train_pos_paths)"
   ]
  },
  {
   "cell_type": "code",
   "execution_count": 4,
   "metadata": {},
   "outputs": [
    {
     "data": {
      "text/plain": [
       "12500"
      ]
     },
     "execution_count": 4,
     "metadata": {},
     "output_type": "execute_result"
    }
   ],
   "source": [
    "train_neg_paths = [f for f in (train_path/\"neg\").iterdir()]\n",
    "len(train_neg_paths)"
   ]
  },
  {
   "cell_type": "code",
   "execution_count": 5,
   "metadata": {},
   "outputs": [
    {
     "data": {
      "text/plain": [
       "12500"
      ]
     },
     "execution_count": 5,
     "metadata": {},
     "output_type": "execute_result"
    }
   ],
   "source": [
    "test_path = Path(\"aclImdb/test/\")\n",
    "test_pos_paths = [f for f in (test_path/\"pos\").iterdir()]\n",
    "len(test_pos_paths)\n"
   ]
  },
  {
   "cell_type": "code",
   "execution_count": 6,
   "metadata": {},
   "outputs": [
    {
     "data": {
      "text/plain": [
       "12500"
      ]
     },
     "execution_count": 6,
     "metadata": {},
     "output_type": "execute_result"
    }
   ],
   "source": [
    "test_neg_paths = [f for f in (test_path/\"neg\").iterdir()]\n",
    "len(test_neg_paths)"
   ]
  },
  {
   "cell_type": "markdown",
   "metadata": {},
   "source": [
    "# Labeling"
   ]
  },
  {
   "cell_type": "code",
   "execution_count": 7,
   "metadata": {},
   "outputs": [
    {
     "data": {
      "text/plain": [
       "('For a movie that gets no respect there sure are a lot of memorable quotes listed for this gem. Imagine a movie where Joe Piscopo is actually funny! Maureen Stapleton is a scene stealer. The Moroni character is an absolute scream. Watch for Alan \"The Skipper\" Hale jr. as a police Sgt.',\n",
       " 'pos',\n",
       " 'train')"
      ]
     },
     "execution_count": 7,
     "metadata": {},
     "output_type": "execute_result"
    }
   ],
   "source": [
    "train_pos_text = [(read_file(path), 'pos', 'train') for path in train_pos_paths] \n",
    "train_pos_text[0]"
   ]
  },
  {
   "cell_type": "code",
   "execution_count": 8,
   "metadata": {},
   "outputs": [
    {
     "data": {
      "text/plain": [
       "(\"Working with one of the best Shakespeare sources, this film manages to be creditable to it's source, whilst still appealing to a wider audience.<br /><br />Branagh steals the film from under Fishburne's nose, and there's a talented cast on good form.\",\n",
       " 'neg',\n",
       " 'train')"
      ]
     },
     "execution_count": 8,
     "metadata": {},
     "output_type": "execute_result"
    }
   ],
   "source": [
    "train_neg_text = [(read_file(path), 'neg', 'train') for path in train_neg_paths] \n",
    "train_neg_text[0]"
   ]
  },
  {
   "cell_type": "code",
   "execution_count": 9,
   "metadata": {},
   "outputs": [
    {
     "data": {
      "text/plain": [
       "(\"Alan Rickman & Emma Thompson give good performances with southern/New Orleans accents in this detective flick. It's worth seeing for their scenes- and Rickman's scene with Hal Holbrook. These three actors mannage to entertain us no matter what the movie, it seems. The plot for the movie shows potential, but one gets the impression in watching the film that it was not pulled off as well as it could have been. The fact that it is cluttered by a rather uninteresting subplot and mostly uninteresting kidnappers really muddles things. The movie is worth a view- if for nothing more than entertaining performances by Rickman, Thompson, and Holbrook.\",\n",
       " 'neg',\n",
       " 'test')"
      ]
     },
     "execution_count": 9,
     "metadata": {},
     "output_type": "execute_result"
    }
   ],
   "source": [
    "test_neg_text = [(read_file(path), 'neg', 'test') for path in test_neg_paths] \n",
    "test_neg_text[0]"
   ]
  },
  {
   "cell_type": "code",
   "execution_count": 10,
   "metadata": {},
   "outputs": [
    {
     "data": {
      "text/plain": [
       "('Based on an actual story, John Boorman shows the struggle of an American doctor, whose husband and son were murdered and she was continually plagued with her loss. A holiday to Burma with her sister seemed like a good idea to get away from it all, but when her passport was stolen in Rangoon, she could not leave the country with her sister, and was forced to stay back until she could get I.D. papers from the American embassy. To fill in a day before she could fly out, she took a trip into the countryside with a tour guide. \"I tried finding something in those stone statues, but nothing stirred in me. I was stone myself.\" <br /><br />Suddenly all hell broke loose and she was caught in a political revolt. Just when it looked like she had escaped and safely boarded a train, she saw her tour guide get beaten and shot. In a split second she decided to jump from the moving train and try to rescue him, with no thought of herself. Continually her life was in danger. <br /><br />Here is a woman who demonstrated spontaneous, selfless charity, risking her life to save another. Patricia Arquette is beautiful, and not just to look at; she has a beautiful heart. This is an unforgettable story. <br /><br />\"We are taught that suffering is the one promise that life always keeps.\"',\n",
       " 'pos',\n",
       " 'test')"
      ]
     },
     "execution_count": 10,
     "metadata": {},
     "output_type": "execute_result"
    }
   ],
   "source": [
    "test_pos_text = [(read_file(path), 'pos', 'test') for path in test_pos_paths] \n",
    "test_pos_text[0]"
   ]
  },
  {
   "cell_type": "code",
   "execution_count": 11,
   "metadata": {},
   "outputs": [
    {
     "data": {
      "text/plain": [
       "(\"Working with one of the best Shakespeare sources, this film manages to be creditable to it's source, whilst still appealing to a wider audience.<br /><br />Branagh steals the film from under Fishburne's nose, and there's a talented cast on good form.\",\n",
       " 'neg',\n",
       " 'train')"
      ]
     },
     "execution_count": 11,
     "metadata": {},
     "output_type": "execute_result"
    }
   ],
   "source": [
    "all_text = train_neg_text + train_pos_text + test_neg_text + test_pos_text\n",
    "all_text[0]"
   ]
  },
  {
   "cell_type": "markdown",
   "metadata": {},
   "source": [
    "# Creating the df and tokenizing"
   ]
  },
  {
   "cell_type": "code",
   "execution_count": 12,
   "metadata": {},
   "outputs": [
    {
     "data": {
      "text/html": [
       "<div>\n",
       "<style scoped>\n",
       "    .dataframe tbody tr th:only-of-type {\n",
       "        vertical-align: middle;\n",
       "    }\n",
       "\n",
       "    .dataframe tbody tr th {\n",
       "        vertical-align: top;\n",
       "    }\n",
       "\n",
       "    .dataframe thead th {\n",
       "        text-align: right;\n",
       "    }\n",
       "</style>\n",
       "<table border=\"1\" class=\"dataframe\">\n",
       "  <thead>\n",
       "    <tr style=\"text-align: right;\">\n",
       "      <th></th>\n",
       "      <th>sentence</th>\n",
       "      <th>sentiment</th>\n",
       "      <th>train_test</th>\n",
       "    </tr>\n",
       "  </thead>\n",
       "  <tbody>\n",
       "    <tr>\n",
       "      <th>0</th>\n",
       "      <td>Working with one of the best Shakespeare sourc...</td>\n",
       "      <td>neg</td>\n",
       "      <td>train</td>\n",
       "    </tr>\n",
       "    <tr>\n",
       "      <th>1</th>\n",
       "      <td>Well...tremors I, the original started off in ...</td>\n",
       "      <td>neg</td>\n",
       "      <td>train</td>\n",
       "    </tr>\n",
       "    <tr>\n",
       "      <th>2</th>\n",
       "      <td>Ouch! This one was a bit painful to sit throug...</td>\n",
       "      <td>neg</td>\n",
       "      <td>train</td>\n",
       "    </tr>\n",
       "    <tr>\n",
       "      <th>3</th>\n",
       "      <td>I've seen some crappy movies in my life, but t...</td>\n",
       "      <td>neg</td>\n",
       "      <td>train</td>\n",
       "    </tr>\n",
       "    <tr>\n",
       "      <th>4</th>\n",
       "      <td>\"Carriers\" follows the exploits of two guys an...</td>\n",
       "      <td>neg</td>\n",
       "      <td>train</td>\n",
       "    </tr>\n",
       "  </tbody>\n",
       "</table>\n",
       "</div>"
      ],
      "text/plain": [
       "                                            sentence sentiment train_test\n",
       "0  Working with one of the best Shakespeare sourc...       neg      train\n",
       "1  Well...tremors I, the original started off in ...       neg      train\n",
       "2  Ouch! This one was a bit painful to sit throug...       neg      train\n",
       "3  I've seen some crappy movies in my life, but t...       neg      train\n",
       "4  \"Carriers\" follows the exploits of two guys an...       neg      train"
      ]
     },
     "execution_count": 12,
     "metadata": {},
     "output_type": "execute_result"
    }
   ],
   "source": [
    "# Create DataFrame\n",
    "df = pd.DataFrame(all_text, columns=['sentence', 'sentiment', 'train_test'])\n",
    "\n",
    "df.head()"
   ]
  },
  {
   "cell_type": "code",
   "execution_count": 13,
   "metadata": {},
   "outputs": [
    {
     "name": "stderr",
     "output_type": "stream",
     "text": [
      "[nltk_data] Downloading package punkt to\n",
      "[nltk_data]     /Users/erenbardak/nltk_data...\n",
      "[nltk_data]   Package punkt is already up-to-date!\n",
      "[nltk_data] Downloading package stopwords to\n",
      "[nltk_data]     /Users/erenbardak/nltk_data...\n",
      "[nltk_data]   Package stopwords is already up-to-date!\n"
     ]
    },
    {
     "data": {
      "text/html": [
       "<div>\n",
       "<style scoped>\n",
       "    .dataframe tbody tr th:only-of-type {\n",
       "        vertical-align: middle;\n",
       "    }\n",
       "\n",
       "    .dataframe tbody tr th {\n",
       "        vertical-align: top;\n",
       "    }\n",
       "\n",
       "    .dataframe thead th {\n",
       "        text-align: right;\n",
       "    }\n",
       "</style>\n",
       "<table border=\"1\" class=\"dataframe\">\n",
       "  <thead>\n",
       "    <tr style=\"text-align: right;\">\n",
       "      <th></th>\n",
       "      <th>sentence</th>\n",
       "      <th>sentiment</th>\n",
       "      <th>train_test</th>\n",
       "      <th>preprocessed</th>\n",
       "    </tr>\n",
       "  </thead>\n",
       "  <tbody>\n",
       "    <tr>\n",
       "      <th>0</th>\n",
       "      <td>Working with one of the best Shakespeare sourc...</td>\n",
       "      <td>neg</td>\n",
       "      <td>train</td>\n",
       "      <td>[working, one, best, shakespeare, sources, fil...</td>\n",
       "    </tr>\n",
       "    <tr>\n",
       "      <th>1</th>\n",
       "      <td>Well...tremors I, the original started off in ...</td>\n",
       "      <td>neg</td>\n",
       "      <td>train</td>\n",
       "      <td>[well, tremors, original, started, found, movi...</td>\n",
       "    </tr>\n",
       "    <tr>\n",
       "      <th>2</th>\n",
       "      <td>Ouch! This one was a bit painful to sit throug...</td>\n",
       "      <td>neg</td>\n",
       "      <td>train</td>\n",
       "      <td>[ouch, one, bit, painful, sit, cute, amusing, ...</td>\n",
       "    </tr>\n",
       "    <tr>\n",
       "      <th>3</th>\n",
       "      <td>I've seen some crappy movies in my life, but t...</td>\n",
       "      <td>neg</td>\n",
       "      <td>train</td>\n",
       "      <td>[seen, crappy, movies, life, one, must, among,...</td>\n",
       "    </tr>\n",
       "    <tr>\n",
       "      <th>4</th>\n",
       "      <td>\"Carriers\" follows the exploits of two guys an...</td>\n",
       "      <td>neg</td>\n",
       "      <td>train</td>\n",
       "      <td>[carriers, follows, exploits, two, guys, two, ...</td>\n",
       "    </tr>\n",
       "    <tr>\n",
       "      <th>...</th>\n",
       "      <td>...</td>\n",
       "      <td>...</td>\n",
       "      <td>...</td>\n",
       "      <td>...</td>\n",
       "    </tr>\n",
       "    <tr>\n",
       "      <th>49995</th>\n",
       "      <td>This movie is certainly well-constructed, begi...</td>\n",
       "      <td>pos</td>\n",
       "      <td>test</td>\n",
       "      <td>[movie, certainly, beginning, ending, dark, fo...</td>\n",
       "    </tr>\n",
       "    <tr>\n",
       "      <th>49996</th>\n",
       "      <td>Nice to see a comedy for grown ups. Masterfull...</td>\n",
       "      <td>pos</td>\n",
       "      <td>test</td>\n",
       "      <td>[nice, see, comedy, grown, ups, masterfully, s...</td>\n",
       "    </tr>\n",
       "    <tr>\n",
       "      <th>49997</th>\n",
       "      <td>Jean Renoir's homage to the Paris of the late ...</td>\n",
       "      <td>pos</td>\n",
       "      <td>test</td>\n",
       "      <td>[jean, renoir, homage, paris, late, century, b...</td>\n",
       "    </tr>\n",
       "    <tr>\n",
       "      <th>49998</th>\n",
       "      <td>What are the movies? I mean.. what are movies ...</td>\n",
       "      <td>pos</td>\n",
       "      <td>test</td>\n",
       "      <td>[movies, mean, movies, made, shootings, killin...</td>\n",
       "    </tr>\n",
       "    <tr>\n",
       "      <th>49999</th>\n",
       "      <td>I saw this movie on TV and loved it! I am a re...</td>\n",
       "      <td>pos</td>\n",
       "      <td>test</td>\n",
       "      <td>[saw, movie, tv, loved, real, disaster, film, ...</td>\n",
       "    </tr>\n",
       "  </tbody>\n",
       "</table>\n",
       "<p>50000 rows × 4 columns</p>\n",
       "</div>"
      ],
      "text/plain": [
       "                                                sentence sentiment train_test  \\\n",
       "0      Working with one of the best Shakespeare sourc...       neg      train   \n",
       "1      Well...tremors I, the original started off in ...       neg      train   \n",
       "2      Ouch! This one was a bit painful to sit throug...       neg      train   \n",
       "3      I've seen some crappy movies in my life, but t...       neg      train   \n",
       "4      \"Carriers\" follows the exploits of two guys an...       neg      train   \n",
       "...                                                  ...       ...        ...   \n",
       "49995  This movie is certainly well-constructed, begi...       pos       test   \n",
       "49996  Nice to see a comedy for grown ups. Masterfull...       pos       test   \n",
       "49997  Jean Renoir's homage to the Paris of the late ...       pos       test   \n",
       "49998  What are the movies? I mean.. what are movies ...       pos       test   \n",
       "49999  I saw this movie on TV and loved it! I am a re...       pos       test   \n",
       "\n",
       "                                            preprocessed  \n",
       "0      [working, one, best, shakespeare, sources, fil...  \n",
       "1      [well, tremors, original, started, found, movi...  \n",
       "2      [ouch, one, bit, painful, sit, cute, amusing, ...  \n",
       "3      [seen, crappy, movies, life, one, must, among,...  \n",
       "4      [carriers, follows, exploits, two, guys, two, ...  \n",
       "...                                                  ...  \n",
       "49995  [movie, certainly, beginning, ending, dark, fo...  \n",
       "49996  [nice, see, comedy, grown, ups, masterfully, s...  \n",
       "49997  [jean, renoir, homage, paris, late, century, b...  \n",
       "49998  [movies, mean, movies, made, shootings, killin...  \n",
       "49999  [saw, movie, tv, loved, real, disaster, film, ...  \n",
       "\n",
       "[50000 rows x 4 columns]"
      ]
     },
     "execution_count": 13,
     "metadata": {},
     "output_type": "execute_result"
    }
   ],
   "source": [
    "import pandas as pd\n",
    "from gensim.models import Word2Vec\n",
    "import nltk\n",
    "from nltk.corpus import stopwords\n",
    "from nltk.tokenize import word_tokenize\n",
    "\n",
    "# Preprocess the text\n",
    "nltk.download('punkt')\n",
    "nltk.download('stopwords')\n",
    "stop_words = set(stopwords.words('english'))\n",
    "\n",
    "def preprocess(text):\n",
    "    text = text.lower()\n",
    "    word_tokens = word_tokenize(text)\n",
    "    filtered_sentence = [w for w in word_tokens if not w in stop_words and w.isalpha()]\n",
    "    return filtered_sentence\n",
    "\n",
    "# Apply preprocessing to each sentence in the DataFrame\n",
    "df['preprocessed'] = df['sentence'].apply(preprocess)\n",
    "\n",
    "# Extract sentences for Word2Vec training\n",
    "preprocessed_sentences = df['preprocessed'].tolist()\n",
    "\n",
    "df"
   ]
  },
  {
   "cell_type": "markdown",
   "metadata": {},
   "source": [
    "# Model"
   ]
  },
  {
   "cell_type": "markdown",
   "metadata": {},
   "source": [
    "- experimenting with the hyperparameters"
   ]
  },
  {
   "cell_type": "code",
   "execution_count": 18,
   "metadata": {},
   "outputs": [
    {
     "name": "stdout",
     "output_type": "stream",
     "text": [
      "Accuracy: VS50_WS3_E5: 0.84672\n",
      "Accuracy: VS50_WS3_E10: 0.8554\n",
      "Accuracy: VS50_WS3_E15: 0.85824\n",
      "Accuracy: VS50_WS5_E5: 0.84796\n",
      "Accuracy: VS50_WS5_E10: 0.85432\n",
      "Accuracy: VS50_WS5_E15: 0.85968\n",
      "Accuracy: VS50_WS7_E5: 0.8494\n",
      "Accuracy: VS50_WS7_E10: 0.85524\n",
      "Accuracy: VS50_WS7_E15: 0.8576\n",
      "Accuracy: VS100_WS3_E5: 0.84636\n",
      "Accuracy: VS100_WS3_E10: 0.85552\n",
      "Accuracy: VS100_WS3_E15: 0.857\n",
      "Accuracy: VS100_WS5_E5: 0.84916\n",
      "Accuracy: VS100_WS5_E10: 0.8554\n",
      "Accuracy: VS100_WS5_E15: 0.85832\n",
      "Accuracy: VS100_WS7_E5: 0.84804\n",
      "Accuracy: VS100_WS7_E10: 0.85312\n",
      "Accuracy: VS100_WS7_E15: 0.86008\n",
      "Accuracy: VS150_WS3_E5: 0.84936\n",
      "Accuracy: VS150_WS3_E10: 0.85596\n",
      "Accuracy: VS150_WS3_E15: 0.85884\n",
      "Accuracy: VS150_WS5_E5: 0.84792\n",
      "Accuracy: VS150_WS5_E10: 0.85624\n",
      "Accuracy: VS150_WS5_E15: 0.85784\n",
      "Accuracy: VS150_WS7_E5: 0.84708\n",
      "Accuracy: VS150_WS7_E10: 0.85516\n",
      "Accuracy: VS150_WS7_E15: 0.85832\n"
     ]
    }
   ],
   "source": [
    "import pandas as pd\n",
    "from sklearn.model_selection import train_test_split\n",
    "from sklearn.ensemble import RandomForestClassifier\n",
    "from gensim.models import Word2Vec\n",
    "import numpy as np\n",
    "from sklearn.metrics import accuracy_score\n",
    "from sklearn.linear_model import LogisticRegression\n",
    "from sklearn.preprocessing import StandardScaler\n",
    "import matplotlib.pyplot as plt\n",
    "\n",
    "\n",
    "# Function to create a feature vector for a sentence by averaging its word vectors\n",
    "def feature_vector(sentence, model):\n",
    "    # Convert the sentence to a vector\n",
    "    words = sentence\n",
    "    word_vectors = [model.wv[word] for word in words if word in model.wv]\n",
    "    \n",
    "    # If a sentence has no words that are in the Word2Vec vocab, return a zero vector\n",
    "    if len(word_vectors) == 0:\n",
    "        return np.zeros(model.vector_size)\n",
    "    \n",
    "    # Otherwise, return the mean of the word vectors\n",
    "    return np.mean(word_vectors, axis=0)\n",
    "\n",
    "# Define hyperparameters ranges for Word2Vec\n",
    "vector_sizes = [50, 100, 150]\n",
    "window_sizes = [3, 5, 7]\n",
    "epochs_list = [5, 10, 15]\n",
    "\n",
    "results = {}\n",
    "\n",
    "# Iterate over combinations of hyperparameters\n",
    "for vector_size in vector_sizes:\n",
    "    for window_size in window_sizes:\n",
    "        for epochs in epochs_list:\n",
    "\n",
    "            # Train the Word2Vec model using the preprocessed text from the 'preprocessed' column\n",
    "            model = Word2Vec(sentences=df['preprocessed'], vector_size=100, window=5, min_count=1, workers=4)\n",
    "            sentences=df['preprocessed']\n",
    "            model.train(sentences, total_examples=len(sentences), epochs=epochs)\n",
    "\n",
    "\n",
    "            # Create feature vectors for each sentence\n",
    "            df['feature_vector'] = df['preprocessed'].apply(lambda x: feature_vector(x, model))\n",
    "\n",
    "            df_train = df[df['train_test']=='train']\n",
    "            df_test = df[df['train_test']=='test']\n",
    "\n",
    "            # Prepare the training data and labels\n",
    "            x_train = np.array(list(df_train['feature_vector'])) # This creates a 2D numpy array from the feature vectors\n",
    "            y_train = df_train['sentiment'].apply(lambda x: 1 if x == 'pos' else 0).values # Convert sentiment to a binary variable\n",
    "\n",
    "            x_test = np.array(list(df_test['feature_vector'])) # This creates a 2D numpy array from the feature vectors\n",
    "            y_test = df_test['sentiment'].apply(lambda x: 1 if x == 'pos' else 0).values # Convert sentiment to a binary variable\n",
    "\n",
    "            # Scale your data\n",
    "            scaler = StandardScaler()\n",
    "            X_train_scaled = scaler.fit_transform(x_train)\n",
    "            X_test_scaled = scaler.transform(x_test)\n",
    "\n",
    "            # Train a classifier with increased max_iter and a different solver\n",
    "            clf = LogisticRegression(random_state=0, max_iter=1000, tol=1e-3, solver='lbfgs')\n",
    "\n",
    "            clf.fit(X_train_scaled, y_train)\n",
    "\n",
    "            y_pred = clf.predict(X_test_scaled)\n",
    "\n",
    "            accuracy = accuracy_score(y_test, y_pred)\n",
    "            print(f\"Accuracy: VS{vector_size}_WS{window_size}_E{epochs}: {accuracy}\")\n",
    "\n",
    "            key = f'VS{vector_size}_WS{window_size}_E{epochs}'\n",
    "            results[key] = accuracy"
   ]
  },
  {
   "cell_type": "code",
   "execution_count": 20,
   "metadata": {},
   "outputs": [
    {
     "name": "stderr",
     "output_type": "stream",
     "text": [
      "/var/folders/g8/btdyhprd6l7_z7kmyr6qhzp80000gn/T/ipykernel_55593/3221311349.py:14: UserWarning: set_ticklabels() should only be used with a fixed number of ticks, i.e. after set_ticks() or using a FixedLocator.\n",
      "  ax.set_xticklabels(labels, rotation=90)\n"
     ]
    },
    {
     "data": {
      "image/png": "[encoded data removed]",
      "text/plain": [
       "<Figure size 2000x800 with 1 Axes>"
      ]
     },
     "metadata": {},
     "output_type": "display_data"
    }
   ],
   "source": [
    "# Extracting VS, WS, and E values\n",
    "labels = list(results.keys())\n",
    "values = list(results.values())\n",
    "\n",
    "# Color mapping based on WS value\n",
    "colors = {'WS3': 'red', 'WS5': 'green', 'WS7': 'blue'}\n",
    "color_list = [colors[label.split('_')[1]] for label in labels]\n",
    "\n",
    "# Creating the plot\n",
    "fig, ax = plt.subplots(figsize=(20, 8))\n",
    "bars = ax.bar(labels, values, color=color_list)\n",
    "ax.set_ylabel('Accuracy Values')\n",
    "ax.set_title('Accuracy Values by Vector Size, Window Size, and Epochs')\n",
    "ax.set_xticklabels(labels, rotation=90)\n",
    "\n",
    "# Annotate the accuracy value on top of each bar\n",
    "for bar in bars:\n",
    "    height = bar.get_height()\n",
    "    ax.annotate(f'{height:.4f}',\n",
    "                xy=(bar.get_x() + bar.get_width() / 2, height),\n",
    "                xytext=(0, 3),  # 3 points vertical offset\n",
    "                textcoords=\"offset points\",\n",
    "                ha='center', va='bottom')\n",
    "\n",
    "# Creating a legend for the different WS values\n",
    "red_patch = plt.Line2D([0], [0], color='red', lw=4, label='Window Size = 3')\n",
    "green_patch = plt.Line2D([0], [0], color='green', lw=4, label='Window Size = 5')\n",
    "blue_patch = plt.Line2D([0], [0], color='blue', lw=4, label='Window size = 7')\n",
    "\n",
    "plt.legend(handles=[red_patch, green_patch, blue_patch])\n",
    "plt.ylim(0.75, 0.90)  # Adjust the upper limit to accommodate the text\n",
    "\n",
    "plt.show()"
   ]
  },
  {
   "cell_type": "markdown",
   "metadata": {},
   "source": [
    "- Creating t-SNE using one of the models above"
   ]
  },
  {
   "cell_type": "code",
   "execution_count": 22,
   "metadata": {},
   "outputs": [
    {
     "data": {
      "image/png": "[encoded data removed]",
      "text/plain": [
       "<Figure size 1600x1600 with 1 Axes>"
      ]
     },
     "metadata": {},
     "output_type": "display_data"
    }
   ],
   "source": [
    "import matplotlib.pyplot as plt\n",
    "from gensim.models import Word2Vec\n",
    "from sklearn.manifold import TSNE\n",
    "import random\n",
    "\n",
    "model = Word2Vec(df['preprocessed'], vector_size=100, window=7, min_count=1)\n",
    "\n",
    "sentences=df['preprocessed']\n",
    "model.train(sentences, total_examples=len(sentences), epochs=15)\n",
    "\n",
    "# Visualize word embeddings using t-SNE for the closest words to a specific word\n",
    "def tsne_plot(model, target_word):\n",
    "    try:\n",
    "        # Getting the top 10 similar words\n",
    "        similar_words = model.wv.most_similar(target_word, topn=10)\n",
    "        words = [word for word, _ in similar_words]\n",
    "        vectors = np.array([model.wv[word] for word in words])  # Getting vectors for these words\n",
    "        tsne_model = TSNE(perplexity=2, n_components=2, init='pca', n_iter=2500, random_state=23)\n",
    "        new_values = tsne_model.fit_transform(vectors)\n",
    "\n",
    "        plt.figure(figsize=(16, 16))\n",
    "        for i, word in enumerate(words):\n",
    "            plt.scatter(new_values[i][0], new_values[i][1])\n",
    "            plt.annotate(word, xy=(new_values[i][0], new_values[i][1]), xytext=(5, 2), textcoords='offset points', ha='right', va='bottom')\n",
    "        plt.show()\n",
    "    except KeyError:\n",
    "        print(f\"The word '{target_word}' is not in the vocabulary.\")\n",
    "\n",
    "\n",
    "# Example: visualize the 10 closest words to a given word, e.g., 'example'\n",
    "tsne_plot(model, 'positive')\n"
   ]
  },
  {
   "cell_type": "markdown",
   "metadata": {},
   "source": [
    "# GPT Classification"
   ]
  },
  {
   "cell_type": "code",
   "execution_count": 151,
   "metadata": {},
   "outputs": [
    {
     "name": "stdout",
     "output_type": "stream",
     "text": [
      "Requirement already satisfied: openai in /opt/homebrew/anaconda3/lib/python3.11/site-packages (0.28.0)\n",
      "Requirement already satisfied: requests>=2.20 in /opt/homebrew/anaconda3/lib/python3.11/site-packages (from openai) (2.31.0)\n",
      "Requirement already satisfied: tqdm in /opt/homebrew/anaconda3/lib/python3.11/site-packages (from openai) (4.65.0)\n",
      "Requirement already satisfied: aiohttp in /opt/homebrew/anaconda3/lib/python3.11/site-packages (from openai) (3.9.3)\n",
      "Requirement already satisfied: charset-normalizer<4,>=2 in /opt/homebrew/anaconda3/lib/python3.11/site-packages (from requests>=2.20->openai) (2.0.4)\n",
      "Requirement already satisfied: idna<4,>=2.5 in /opt/homebrew/anaconda3/lib/python3.11/site-packages (from requests>=2.20->openai) (3.4)\n",
      "Requirement already satisfied: urllib3<3,>=1.21.1 in /opt/homebrew/anaconda3/lib/python3.11/site-packages (from requests>=2.20->openai) (1.26.16)\n",
      "Requirement already satisfied: certifi>=2017.4.17 in /opt/homebrew/anaconda3/lib/python3.11/site-packages (from requests>=2.20->openai) (2023.7.22)\n",
      "Requirement already satisfied: aiosignal>=1.1.2 in /opt/homebrew/anaconda3/lib/python3.11/site-packages (from aiohttp->openai) (1.3.1)\n",
      "Requirement already satisfied: attrs>=17.3.0 in /opt/homebrew/anaconda3/lib/python3.11/site-packages (from aiohttp->openai) (23.2.0)\n",
      "Requirement already satisfied: frozenlist>=1.1.1 in /opt/homebrew/anaconda3/lib/python3.11/site-packages (from aiohttp->openai) (1.4.1)\n",
      "Requirement already satisfied: multidict<7.0,>=4.5 in /opt/homebrew/anaconda3/lib/python3.11/site-packages (from aiohttp->openai) (6.0.4)\n",
      "Requirement already satisfied: yarl<2.0,>=1.0 in /opt/homebrew/anaconda3/lib/python3.11/site-packages (from aiohttp->openai) (1.9.4)\n"
     ]
    }
   ],
   "source": [
    "# ! pip install openai"
   ]
  },
  {
   "cell_type": "code",
   "execution_count": 275,
   "metadata": {},
   "outputs": [
    {
     "data": {
      "text/plain": [
       "\"Working with one of the best Shakespeare sources, this film manages to be creditable to it's source, whilst still appealing to a wider audience.<br /><br />Branagh steals the film from under Fishburne's nose, and there's a talented cast on good form.\""
      ]
     },
     "execution_count": 275,
     "metadata": {},
     "output_type": "execute_result"
    }
   ],
   "source": [
    "text_200 = all_text[:200]\n",
    "\n",
    "text = text_200[0][0]\n",
    "text"
   ]
  },
  {
   "cell_type": "code",
   "execution_count": 271,
   "metadata": {},
   "outputs": [
    {
     "data": {
      "text/plain": [
       "'pos'"
      ]
     },
     "execution_count": 271,
     "metadata": {},
     "output_type": "execute_result"
    }
   ],
   "source": [
    "from openai import OpenAI\n",
    "\n",
    "file_openai_key = \"./.env\"\n",
    "key = open(file_openai_key, \"r\").read().strip()\n",
    "\n",
    "client = OpenAI(api_key=key)\n",
    "\n",
    "def get_chat_completion(prompt):\n",
    "    response = client.chat.completions.create(\n",
    "        model=\"gpt-3.5-turbo\",\n",
    "        temperature=0,\n",
    "        max_tokens=50,\n",
    "\n",
    "        messages=[{\"role\": \"user\", \"content\": prompt}]\n",
    "    )\n",
    "    return response.choices[0].message.content\n",
    "\n",
    "prompt = f\"\"\"\n",
    "    You will be provided with a review of a movie.  \n",
    "    If the movie review have a positive sentiment write \"pos\"\n",
    "    If the movie review have a negative sentiment write \"neg\"\n",
    "    \\\"\\\"\\\"{text}\\\"\\\"\\\" \n",
    "    \"\"\"\n",
    "\n",
    "get_chat_completion(prompt)"
   ]
  },
  {
   "cell_type": "code",
   "execution_count": 277,
   "metadata": {},
   "outputs": [],
   "source": [
    "def get_response(prompt):\n",
    "    failure = True\n",
    "    failure_count = 0 \n",
    "    while(failure):\n",
    "        failure = False\n",
    "        try:\n",
    "            response = get_chat_completion(prompt)\n",
    "        except:\n",
    "            failure = True\n",
    "            print(\"failed\")\n",
    "            time.sleep(60)\n",
    "        failure_count =+1\n",
    "        if failure_count > 100:\n",
    "            return -1\n",
    "    return response"
   ]
  },
  {
   "cell_type": "code",
   "execution_count": 279,
   "metadata": {},
   "outputs": [
    {
     "name": "stdout",
     "output_type": "stream",
     "text": [
      "neg pos\n",
      "incorrect\n",
      "neg neg\n",
      "neg neg\n",
      "neg neg\n",
      "neg neg\n",
      "neg neg\n",
      "neg neg\n",
      "neg neg\n",
      "neg neg\n",
      "neg neg\n",
      "neg neg\n",
      "neg neg\n",
      "neg neg\n",
      "neg pos\n",
      "incorrect\n",
      "neg neg\n",
      "neg pos\n",
      "incorrect\n",
      "neg neg\n",
      "neg neg\n",
      "neg neg\n",
      "neg neg\n",
      "neg neg\n",
      "neg neg\n",
      "neg neg\n",
      "neg neg\n",
      "neg neg\n",
      "neg neg\n",
      "neg neg\n",
      "neg neg\n",
      "neg neg\n",
      "neg neg\n",
      "neg neg\n",
      "neg neg\n",
      "neg neg\n",
      "neg neg\n",
      "neg neg\n",
      "neg neg\n",
      "neg neg\n",
      "neg neg\n",
      "neg neg\n",
      "neg neg\n",
      "neg neg\n",
      "neg neg\n",
      "neg neg\n",
      "neg neg\n",
      "neg neg\n",
      "neg neg\n",
      "neg neg\n",
      "neg neg\n",
      "neg neg\n",
      "neg neg\n",
      "neg neg\n",
      "neg neg\n",
      "neg neg\n",
      "neg neg\n",
      "neg neg\n",
      "neg neg\n",
      "neg neg\n",
      "neg neg\n",
      "neg neg\n",
      "neg neg\n",
      "neg neg\n",
      "neg neg\n",
      "neg neg\n",
      "neg neg\n",
      "neg neg\n",
      "neg neg\n",
      "neg neg\n",
      "neg neg\n",
      "neg neg\n",
      "neg neg\n",
      "neg neg\n",
      "neg neg\n",
      "neg neg\n",
      "neg neg\n",
      "neg neg\n",
      "neg neg\n",
      "neg neg\n",
      "neg neg\n",
      "neg neg\n",
      "neg neg\n",
      "neg neg\n",
      "neg neg\n",
      "neg neg\n",
      "neg neg\n",
      "neg neg\n",
      "neg pos\n",
      "incorrect\n",
      "neg neg\n",
      "neg neg\n",
      "neg neg\n",
      "neg neg\n",
      "neg neg\n",
      "neg neg\n",
      "neg neg\n",
      "neg neg\n",
      "neg neg\n",
      "neg neg\n",
      "neg neg\n",
      "neg neg\n",
      "neg neg\n",
      "neg neg\n",
      "neg neg\n",
      "neg neg\n",
      "neg neg\n",
      "neg neg\n",
      "neg neg\n",
      "neg neg\n",
      "neg neg\n",
      "neg neg\n",
      "neg neg\n",
      "neg neg\n",
      "neg neg\n",
      "neg neg\n",
      "neg neg\n",
      "neg neg\n",
      "neg neg\n",
      "neg neg\n",
      "neg neg\n",
      "neg neg\n",
      "neg neg\n",
      "neg neg\n",
      "neg pos\n",
      "incorrect\n",
      "neg neg\n",
      "neg neg\n",
      "neg neg\n",
      "neg neg\n",
      "neg neg\n",
      "neg neg\n",
      "neg neg\n",
      "neg neg\n",
      "neg neg\n",
      "neg neg\n",
      "neg neg\n",
      "neg neg\n",
      "neg neg\n",
      "neg neg\n",
      "neg pos\n",
      "incorrect\n",
      "neg neg\n",
      "neg neg\n",
      "neg neg\n",
      "neg neg\n",
      "neg neg\n",
      "neg neg\n",
      "neg neg\n",
      "neg neg\n",
      "neg neg\n",
      "neg neg\n",
      "neg neg\n",
      "neg neg\n",
      "neg neg\n",
      "neg neg\n",
      "neg neg\n",
      "neg neg\n",
      "neg neg\n",
      "neg neg\n",
      "neg neg\n",
      "neg neg\n",
      "neg neg\n",
      "neg neg\n",
      "neg neg\n",
      "neg neg\n",
      "neg neg\n",
      "neg neg\n",
      "neg neg\n",
      "neg neg\n",
      "neg neg\n",
      "neg neg\n",
      "neg neg\n",
      "neg neg\n",
      "neg neg\n",
      "neg neg\n",
      "neg neg\n",
      "neg neg\n",
      "neg neg\n",
      "neg neg\n",
      "neg neg\n",
      "neg neg\n",
      "neg neg\n",
      "neg neg\n",
      "neg neg\n",
      "neg neg\n",
      "neg neg\n",
      "neg neg\n",
      "neg neg\n",
      "neg neg\n",
      "neg neg\n",
      "neg pos\n",
      "incorrect\n",
      "neg neg\n",
      "neg neg\n",
      "neg neg\n",
      "neg neg\n",
      "neg neg\n",
      "neg neg\n",
      "neg neg\n",
      "neg neg\n",
      "neg neg\n",
      "neg neg\n",
      "neg neg\n",
      "neg neg\n",
      "neg neg\n",
      "neg neg\n"
     ]
    }
   ],
   "source": [
    "corect_outputs = 0\n",
    "incorrects = []\n",
    "for text, sent, train_test in text_200:\n",
    "    prompt = f\"\"\"\n",
    "    You will be provided with a review of a movie.  \n",
    "    If the movie review have a positive sentiment write \"pos\"\n",
    "    If the movie review have a negative sentiment write \"neg\"\n",
    "    \\\"\\\"\\\"{text}\\\"\\\"\\\" \n",
    "    \"\"\"\n",
    "    response = get_response(prompt)\n",
    "    print(sent, response)\n",
    "    if sent == response:\n",
    "        corect_outputs += 1\n",
    "    else:\n",
    "        incorrects.append((text, sent))\n",
    "        print(\"incorrect\")\n",
    "    time.sleep(1)"
   ]
  },
  {
   "cell_type": "code",
   "execution_count": 283,
   "metadata": {},
   "outputs": [
    {
     "data": {
      "text/plain": [
       "0.965"
      ]
     },
     "execution_count": 283,
     "metadata": {},
     "output_type": "execute_result"
    }
   ],
   "source": [
    "# here is the accuracy on 200 reviews\n",
    "corect_outputs / len(text_200)"
   ]
  },
  {
   "cell_type": "code",
   "execution_count": 284,
   "metadata": {},
   "outputs": [
    {
     "data": {
      "text/plain": [
       "[(\"Working with one of the best Shakespeare sources, this film manages to be creditable to it's source, whilst still appealing to a wider audience.<br /><br />Branagh steals the film from under Fishburne's nose, and there's a talented cast on good form.\",\n",
       "  'neg'),\n",
       " ('From the first time I saw the box cover of the movie and the stretched out photography I thought this guy, this friend of the \\'Scwarz\\' must be like 6 foot or 6ft 2in. <br /><br />Not 5 feet tall. Not that, it\\'s his fault. <br /><br />At any rating, I turned on the movie one cool night in Tucson, out on the second story-deck with a good cigar and let it roll. At that time my wife was having an affair and things were going down hill for me, so I needed a good diversion. But, as bad as the movie was...I totally enjoyed it, with a bottle of Merlot too, I might admit. <br /><br />Truly, I have watched this movie many times. It always makes me feel good!! It\\'s not that it \\'tries too hard\\' to be cool or that \\'It\\'s so close\\' to hitting the mark for an action film....It\\'s frantic. And then truly clueless. Then frantic again. It\\'s the best of the best when it comes to a slow speed chase scene. Wow!! I never felt safer in my life. Warm and happy too. I was thankful that they conserved on the gasoline during the chase, due to less production in the summer months...anywho <br /><br />The direction was \\'uninspired\\' the action and fight sequences needed to be choreographed, or re-choreographed and tightened up, the sound was off the delivery didn\\'t hit you, it just kept on going, the other way. The \\'locals\\' of that village that they were in, the town rather, were \\'Off cue\\' they also did not seem to follow what was happening very well, the would look and even \\'stare\\' into the camera lens. Like a deer in the head lights kind of thing only some of them with a smile, a smiling deer. <br /><br />I feel bad because \\'Columbu\\' I just bet has a good heart and a caring spirit for people in America as well as for his own countrymen. <br /><br />However \"Baretta\\'s Island\" is very lethargic and unbelievable. Even still I like it a lot. My now x-wife hates it, but I love it! <br /><br />The funny thing is, I am pretty discriminating when it comes to movies I like or even \\'love\\'. All in all, I like Franco. So there it is. <br /><br />As a movie adding addendum to this if you like killing a few hours with truly fun to watch, straight to video-B movies or \\'bad\\' movies for your little library collection then, if you can find it, check out \\'The Big Sweat\\' (1991) with Robert Z\\' Dar..you know the big guy from \\'TANGO & CASH\\'. \\'The Big Sweat\\', a bomb of a cop story with no real plot discovery and acting that is so lame, it might as well be \\'on crutches\\' and at the end of \\'The Big Sweat\\' I think they ran out of money, because they had a picture of the cast and just set it on fire and let it burn during the credits. -Good fun. <br /><br />But all in all, not as good as Baretta\\'s Island\\', I gave it a \\'1\\' and an overall rating of \\'awful\\' for awful-good B\\' movie. I\\'m waiting for the sequel, maybe like \\'Baretta\\'s revenge on Montazuma\\' (Franco takes a Mexican vacation and gets sick on the water then, declares war on the water co.) or \\'Baretta\\'s powder war\\' where as he would stake out a large drug lord in his country and chemically gene-splice and create a hybrid super bug (insect) that would be bred and dropped into the cocaine fields and eat the coke and upon passing it through the bug, it forms a chemical reaction that turns the coke to pure powdered sugar. Then another sequel he would have to get the young people rescued from excessive sugar addiction and so on. He could get a major tooth paste company to endorse and partially fund the project with careful product placement in the feature. Right?(*)',\n",
       "  'neg'),\n",
       " (\"I actually saw China O'Brien II before I ever saw the original China O'Brien. And I have to say that the first incarnation is actually worse. But: worse = funnier! And funnier = better. If you're a bad movie fan like I am, this is great material. If, however, you are looking for any sort of meaningful plot, acting ability, or movie-making skill, this is best avoided. The best part is how they filmed all the fighting sequences in stuttering fast-forward. Hilariously bad. See it for a laugh, see it for mindless entertainment, but whatever you do, see it for free on TV.\",\n",
       "  'neg'),\n",
       " ('Prom Night 2 is an OK horror movie but prom night is way better and this movies about how the prom Queen Mary Lou in 1957 gets killed by her boyfriend and comes back 30 years later for revenge.The best actor in this movie is Micheal Ironside and the movie stars other OK actors and actress like Justin Louis (I),Wendy Lyon,Lisa Schrage and Richard Monette(I).And there are some good gore scenes like when Mary Lou kills the girl that is trying to hide in her locker by crushing the lockers together and how one of the students are on the computer and Mary Lou electrocutes him to death.Over all this is an OK/good horror movie and my rating is 4 out of 10.',\n",
       "  'neg'),\n",
       " ('This oddity in the new DORIS DAY COLLECTION doesn\\'t really need to be included as she is only in the film for less than 30 minutes. What she does do however, is shine when she\\'s on screen. The near plot less movie is just an excuse to showcase some Warner contract players of the day. JANCIE RULE shows promise and it\\'s a shame she didn\\'t become a big star. RUTH ROMAN handles the role of the \"go-getter\" with aplomb. Better if this was in color. The Travis Air force base locations with some rear projection work well. What\\'s best about the movie are some wonderful musical interludes. If you enjoyed THANK YOUR LUCKY STARS and Hollywood CANTEEN you\\'ll like this one.',\n",
       "  'neg'),\n",
       " ('Here we are: two travelers from a distant futuristic world arrive on earth... one is on a desperate mission to preserve a life, another is an inhuman killing machine determined to eliminate the woman who will give birth to the saviour of an entire race.<br /><br />So what could we call this killing machine? It\\'s almost like he\\'s some kind of destroyer, or eradicator... sort of like an exterminator or something. What\\'s the word I\\'m looking for... something that -terminates- things? Hmmmm....<br /><br />Anyway, the protector (who swiftly doffs the white tunic he stole from Luke Skywalker in favour of local clothing) finds the young woman first and impregnates her with a future-born hero-to-be. The evil uhhhh... \"exterminator\" kills some rednecks and steals their guns and clothes, then attempts to locate the woman by visiting her workplace and asking around by looking menacingly into people\\'s eyes and repeating her name threateningly.<br /><br />Then begins a desperate race for survival as the seemingly deathless and unstoppable \"exterminator\" pursues the couple across the countryside. At some point he may acquire boots and a motorcycle, but I\\'m not sure.<br /><br />Perhaps, in an exciting finale, he will attempt to crush them under the wheels of an enormous tanker truck full of... acid. Then the truck will crash. They will be saved... but no! He will then re-emerge, as strong as ever. He will kill the protector and pursue the girl into a meat packing plant, where in a terrifying finish, he is pushed into a large piece of industrial chopping machinery, and destroyed once and for all.<br /><br />But maybe I\\'m extrapolating too much... after all, I did stop watching this movie after Mr. Protector magically impregnates Sean Young by kissing her at a bar, then tells her the child will be born in 3 days. <br /><br />The costumes and effects are great in this movie... I loved them the first time I saw them on Star Trek: Next Generation too! Sean Young does another great turn as an unemotive Replicant, and career sweat-hog Stephen Baldwin is also on board as Young\\'s Fat Cop Boyfriend. Not sure where he fits into the plot though... maybe he\\'s an import from a different James Cameron movie?',\n",
       "  'neg'),\n",
       " (\"Gritty, dusty western from director Richard Brooks, who seems thoroughly engrossed in the genre while keeping all the usual clichés intact. Early 1900s horse race attracts a low-keyed cowboy (Gene Hackman), a suave gambler (James Coburn), a cocky kid (Jan Michael Vincent), and even a FEMALE (a surprisingly game Candice Bergen). Once the preliminaries are out of the way (with the predictable arguments over whether or not a woman should take part), this becomes a fairly engrossing entry, though one which breaks no new ground (it instead resembles something from Gary Cooper's era). Good-looking, if overlong piece has macho verve and a fine cast, yet the mechanisms of the plot get tiresome rather quickly. ** from ****\",\n",
       "  'neg')]"
      ]
     },
     "execution_count": 284,
     "metadata": {},
     "output_type": "execute_result"
    }
   ],
   "source": [
    "incorrects"
   ]
  },
  {
   "cell_type": "markdown",
   "metadata": {},
   "source": [
    "# Discussion"
   ]
  },
  {
   "cell_type": "markdown",
   "metadata": {},
   "source": [
    "Word2Vec is well-regarded for its ability to efficiently capture semantic and syntactic relationships within text, making it a powerful tool for tasks like synonym detection and analogy solving. Its architecture is straightforward, yet it struggles with out-of-vocabulary words and generates static embeddings that don’t adapt to context. In my project, I utilized Word2Vec for sentiment analysis across a dataset of 50,000 sentences. After deriving word vectors, I averaged them for each sentence to produce consistent sentence-level embeddings. Using these embeddings, I trained a logistic regression model on 25,000 sentences and tested it on another set of 25,000, achieving the best results with a window size of 7, vector size of 100, and 15 epochs.\n",
    "\n",
    "\n",
    "I plotted the 10 words closest to 'positive' and examined their utility using t-SNE visualizations, interestingly observing that words like 'negative' and 'negatively' were also close. Interpreting these visualizations was challenging and required careful consideration to avoid misinterpretations. I chose the averaging method for vector aggregation because it struck a good balance between simplicity and computational efficiency, crucial for handling such a large dataset efficiently.\n",
    "\n",
    "In a parallel experiment, I tested GPT on a smaller dataset of 200 sentences for sentiment analysis and noticed a significant improvement in accuracy. This highlights a key difference: while Word2Vec is excellent for extracting features in structured analysis, GPT excels in understanding and generating text based on broader contextual cues, though it demands more computational power. The decision to use Word2Vec or GPT depends on specific project requirements like computational availability and the complexity of the task.\n",
    "\n",
    "References:\n",
    "Data Acquisition MSDS-692 course notebooks."
   ]
  }
 ],
 "metadata": {
  "kernelspec": {
   "display_name": "base",
   "language": "python",
   "name": "python3"
  },
  "language_info": {
   "codemirror_mode": {
    "name": "ipython",
    "version": 3
   },
   "file_extension": ".py",
   "mimetype": "text/x-python",
   "name": "python",
   "nbconvert_exporter": "python",
   "pygments_lexer": "ipython3",
   "version": "3.11.0"
  }
 },
 "nbformat": 4,
 "nbformat_minor": 2
}
